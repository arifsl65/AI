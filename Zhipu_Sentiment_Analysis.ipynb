{
  "nbformat": 4,
  "nbformat_minor": 0,
  "metadata": {
    "colab": {
      "provenance": [],
      "authorship_tag": "ABX9TyNXhYNEFezRvmB9A9gVV2Ee",
      "include_colab_link": true
    },
    "kernelspec": {
      "name": "python3",
      "display_name": "Python 3"
    },
    "language_info": {
      "name": "python"
    }
  },
  "cells": [
    {
      "cell_type": "markdown",
      "metadata": {
        "id": "view-in-github",
        "colab_type": "text"
      },
      "source": [
        "<a href=\"https://colab.research.google.com/github/arifsl65/AI/blob/main/Zhipu_Sentiment_Analysis.ipynb\" target=\"_parent\"><img src=\"https://colab.research.google.com/assets/colab-badge.svg\" alt=\"Open In Colab\"/></a>"
      ]
    },
    {
      "cell_type": "code",
      "source": [
        "from langchain_community.chat_models import ChatZhipuAI\n",
        "from langchain_core.messages import AIMessage, HumanMessage, SystemMessage"
      ],
      "metadata": {
        "id": "2OeUR3llj_31"
      },
      "execution_count": 18,
      "outputs": []
    },
    {
      "cell_type": "code",
      "source": [
        "import os\n",
        "\n",
        "os.environ[\"ZHIPUAI_API_KEY\"] =\"7b57cd3585af6d1446db93dee3fa0615.0wmwq16YMZ0NYBWo\"\n"
      ],
      "metadata": {
        "id": "EkC2rS56ka9U"
      },
      "execution_count": 19,
      "outputs": []
    },
    {
      "cell_type": "code",
      "source": [
        "chat = ChatZhipuAI(\n",
        "    model=\"glm-4\",\n",
        "    temperature=0.5,\n",
        ")"
      ],
      "metadata": {
        "id": "hDclViNkkieX"
      },
      "execution_count": 20,
      "outputs": []
    },
    {
      "cell_type": "code",
      "source": [
        "messages = [\n",
        "    AIMessage(content=\"Hi.\"),\n",
        "    SystemMessage(content=\"Your role is a News Agent.\"),\n",
        "    HumanMessage(content=\"What is lithium iron battery\"),\n",
        "]"
      ],
      "metadata": {
        "id": "mrVR84sOkwUc"
      },
      "execution_count": 23,
      "outputs": []
    },
    {
      "cell_type": "code",
      "source": [
        "response = chat.invoke(messages)\n",
        "print(response.content)  # Displays the AI-generated poem"
      ],
      "metadata": {
        "colab": {
          "base_uri": "https://localhost:8080/"
        },
        "id": "P9H812ZkkoPD",
        "outputId": "5e4630de-4dd9-4e90-deaf-cd93495745dc"
      },
      "execution_count": 24,
      "outputs": [
        {
          "output_type": "stream",
          "name": "stdout",
          "text": [
            "A lithium-iron battery is a type of rechargeable battery that uses lithium and iron as its primary electrodes. These batteries are a variant of lithium-ion batteries and are known for their high energy density, long lifespan, and relatively low cost compared to other types of lithium batteries.\n",
            "\n",
            "The cathode in a lithium-iron battery typically uses iron phosphate (FePO4), which is considered to be a safe and stable material. This makes lithium-iron batteries attractive for applications where safety is a concern, such as in electric vehicles and large-scale energy storage systems.\n",
            "\n",
            "Here are some key characteristics of lithium-iron batteries:\n",
            "\n",
            "1. **Safety**: They are generally considered to be safer than some other types of lithium-ion batteries, as iron phosphate is less reactive and less likely to overheat or catch fire.\n",
            "\n",
            "2. **Longevity**: Lithium-iron batteries often have a longer lifespan compared to other lithium-ion batteries, with some cells capable of lasting for thousands of charge-discharge cycles.\n",
            "\n",
            "3. **Environmentally Friendly**: They are often marketed as being more environmentally friendly due to the use of non-toxic materials and their potential for recycling.\n",
            "\n",
            "4. **Energy Density**: While they typically have a lower energy density than some other types of lithium-ion batteries (like those with cobalt or manganese cathodes), they still offer a good balance of energy storage and power delivery.\n",
            "\n",
            "5. **Cost**: Iron is a less expensive material than cobalt or manganese, which can help lower the overall cost of the battery.\n",
            "\n",
            "Lithium-iron batteries are used in a variety of applications, including electric vehicles, solar energy storage systems, and portable electronics. They are an important technology in the transition to cleaner and more sustainable energy solutions.\n"
          ]
        }
      ]
    },
    {
      "cell_type": "code",
      "source": [
        "from langchain_community.chat_models import ChatZhipuAI\n",
        "from langchain_core.messages import AIMessage, HumanMessage, SystemMessage\n",
        "import os\n",
        "\n",
        "# Set the API key for ZhipuAI\n",
        "os.environ[\"ZHIPUAI_API_KEY\"] = \"7b57cd3585af6d1446db93dee3fa0615.0wmwq16YMZ0NYBWo\"\n",
        "\n",
        "# Initialize the chat model\n",
        "chat = ChatZhipuAI(\n",
        "    model=\"glm-4\",\n",
        "    temperature=0.5,\n",
        ")\n",
        "\n",
        "# Define the initial messages\n",
        "messages = [\n",
        "    SystemMessage(content=\"Your role is a News Agent.\"),\n",
        "]\n",
        "\n",
        "def add_message_and_invoke(messages, new_message):\n",
        "    # Add the new message to the thread\n",
        "    messages.append(new_message)\n",
        "\n",
        "    # Invoke the chat model\n",
        "    response = chat.invoke(messages)\n",
        "\n",
        "    # Add the AI's response to the thread\n",
        "    messages.append(AIMessage(content=response.content))\n",
        "\n",
        "    # Print the AI's response\n",
        "    print(f\"AI: {response.content}\")\n",
        "\n",
        "    return messages\n",
        "\n",
        "# Start the conversation with an initial user message\n",
        "user_input = input(\"You: \")\n",
        "messages = add_message_and_invoke(messages, HumanMessage(content=user_input))\n",
        "\n",
        "# Follow-up questions in a loop\n",
        "while True:\n",
        "    user_input = input(\"You: \")\n",
        "    if user_input.lower() in [\"exit\", \"quit\"]:\n",
        "        print(\"Ending the conversation.\")\n",
        "        break\n",
        "    messages = add_message_and_invoke(messages, HumanMessage(content=user_input))\n"
      ],
      "metadata": {
        "colab": {
          "base_uri": "https://localhost:8080/"
        },
        "id": "1oAWPTBYndcG",
        "outputId": "d97b8d2c-6a4d-42db-d02e-dab2cf81953f"
      },
      "execution_count": null,
      "outputs": [
        {
          "output_type": "stream",
          "name": "stdout",
          "text": [
            "You: write last months tech headlines\n",
            "AI: As a news agent, here are some of the top tech headlines from the previous month:\n",
            "\n",
            "1. \"Major Tech Company Unveils Groundbreaking Quantum Computing Breakthrough\"\n",
            "   - A leading technology firm has announced a significant advancement in quantum computing, promising faster and more efficient solutions for complex problems.\n",
            "\n",
            "2. \"WhatsApp Launches New Privacy Features Amidst Security Concerns\"\n",
            "   - In response to user privacy concerns, WhatsApp introduced a range of new features to enhance message security and protect user data.\n",
            "\n",
            "3. \"AI Ethics Debate Heats Up Following Release of Controversial Facial Recognition Software\"\n",
            "   - The release of a new facial recognition software sparked a heated debate among AI experts and privacy advocates, raising questions about ethical use and potential abuses of the technology.\n",
            "\n",
            "4. \"Tech Giants Collaborate to Battle Online Child Exploitation\"\n",
            "   - Several major tech companies joined forces to develop new tools and techniques to combat the spread of child exploitation material on the internet.\n",
            "\n",
            "5. \"NASA's Mars Rover Discovers Potential Signs of Ancient Life\"\n",
            "   - NASA's latest Mars rover mission revealed intriguing findings that could indicate the presence of ancient life on the Red Planet, fueling excitement in the scientific community.\n",
            "\n",
            "6. \"Global Chip Shortage Continues to Hamper Tech Industry\"\n",
            "   - The ongoing global semiconductor shortage has impacted production schedules for various tech products, causing delays and price increases across the industry.\n",
            "\n",
            "7. \"Cybersecurity Breach Exposes Millions of Users' Data\"\n",
            "   - A major cybersecurity breach at a popular social media platform exposed the personal information of millions of users, highlighting the need for stronger security measures.\n",
            "\n",
            "8. \"Google Unveils New Pixel Smartphone with Cutting-Edge Camera Technology\"\n",
            "   - Google launched its latest Pixel smartphone, featuring groundbreaking camera technology that sets a new standard for mobile photography.\n",
            "\n",
            "9. \"Electric Vehicle Sales Surge as Governments Announce New Incentives\"\n",
            "   - The global electric vehicle market saw a significant boost as governments around the world introduced new incentives and policies to promote sustainable transportation.\n",
            "\n",
            "10. \"Apple Announces Major Software Update with Focus on Privacy and Security\"\n",
            "    - Apple released a new software update for its devices, emphasizing improved privacy features and security enhancements to protect user information.\n",
            "\n",
            "Please note that these headlines are fictional and created for the purpose of this exercise.\n",
            "You: write top us cyber security companies\n",
            "AI: Here are some of the top cybersecurity companies in the United States, known for their innovative solutions and services:\n",
            "\n",
            "1. **Cisco Systems**\n",
            "   - A leader in networking equipment and cybersecurity solutions, Cisco offers a wide range of products and services to protect networks, endpoints, and data.\n",
            "\n",
            "2. **Symantec (Now NortonLifeLock)**\n",
            "   - Symantec is one of the largest cybersecurity companies, providing antivirus software, endpoint protection, and other security solutions for consumers and enterprises.\n",
            "\n",
            "3. **McAfee**\n",
            "   - McAfee offers comprehensive cybersecurity solutions, including antivirus software, endpoint protection, and security services for both personal and business use.\n",
            "\n",
            "4. **FireEye**\n",
            "   - Specializing in cybersecurity products and services that protect against advanced threats, FireEye is known for its advanced persistent threat (APT) detection and response solutions.\n",
            "\n",
            "5. **CrowdStrike**\n",
            "   - CrowdStrike provides cloud-delivered endpoint protection services, focusing on breach prevention, threat intelligence, and incident response.\n",
            "\n",
            "6. **Palo Alto Networks**\n",
            "   - Palo Alto Networks is recognized for its next-generation firewall technology and a wide array of cybersecurity products that protect organizations from cyber threats.\n",
            "\n",
            "7. **Fortinet**\n",
            "   - Fortinet offers cybersecurity solutions that span across networks, endpoints, cloud environments, and more, using AI and machine learning to detect and prevent threats.\n",
            "\n",
            "8. **Check Point Software Technologies**\n",
            "   - Check Point provides industry-leading security solutions, including firewall, VPN, and threat prevention technologies, to protect enterprise and consumer networks.\n",
            "\n",
            "9. **Trend Micro**\n",
            "   - Trend Micro delivers cybersecurity solutions that secure endpoints, cloud environments, and networks, with a focus on AI-driven threat detection and prevention.\n",
            "\n",
            "10. **Carbon Black (Now part of VMware)**\n",
            "    - Carbon Black offers endpoint security solutions that use big data and analytics to prevent and respond to advanced cyberattacks.\n",
            "\n",
            "11. **RSA Security (Now part of Dell Technologies)**\n",
            "    - RSA Security is known for its encryption and identity and access management solutions, helping to secure sensitive data and prevent unauthorized access.\n",
            "\n",
            "12. **Cylance (Now part of BlackBerry)**\n",
            "    - Cylance provides AI-based cybersecurity solutions that prevent advanced threats and malware on endpoints and in the cloud.\n",
            "\n",
            "13. **Kaspersky Lab**\n",
            "    - Although Kaspersky Lab is a Russian company, it has a significant presence in the U.S. and is known for its cybersecurity products and services, including antivirus and endpoint protection.\n",
            "\n",
            "14. **Illumio**\n",
            "    - Illumio offers adaptive security platforms that protect data centers and cloud environments by preventing the spread of breaches inside the network.\n",
            "\n",
            "15. **Cloudflare**\n",
            "    - Cloudflare provides a range of network security services, including content delivery network (CDN) services, DDoS protection, and web application firewall (WAF) solutions.\n",
            "\n",
            "These companies are at the forefront of the cybersecurity industry, offering a variety of products and services to help organizations of all sizes protect against cyber threats.\n"
          ]
        }
      ]
    }
  ]
}